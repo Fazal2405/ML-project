{
 "cells": [
  {
   "cell_type": "markdown",
   "id": "0ecaa0c2",
   "metadata": {},
   "source": [
    "# Import Required Libraries\n",
    "Import the necessary libraries for data manipulation, visualization, and machine learning."
   ]
  },
  {
   "cell_type": "code",
   "execution_count": null,
   "id": "905059c2",
   "metadata": {},
   "outputs": [],
   "source": [
    "import pandas as pd\n",
    "import numpy as np\n",
    "from sklearn.model_selection import train_test_split\n",
    "from sklearn.ensemble import RandomForestRegressor\n",
    "from sklearn.linear_model import Ridge, Lasso\n",
    "from sklearn.svm import SVR\n",
    "from sklearn.metrics import mean_squared_error, r2_score\n",
    "import matplotlib.pyplot as plt\n",
    "import seaborn as sns"
   ]
  },
  {
   "cell_type": "markdown",
   "id": "7b3e4264",
   "metadata": {},
   "source": [
    "# Load and Preprocess the Dataset\n",
    "Load the dataset and preprocess it by converting categorical variables and filtering data."
   ]
  },
  {
   "cell_type": "code",
   "execution_count": null,
   "id": "2da97d2e",
   "metadata": {},
   "outputs": [],
   "source": [
    "# Load the dataset\n",
    "df = pd.read_csv('employee_dataset_with_future_salaries.csv')\n",
    "\n",
    "# Convert Attrition to binary\n",
    "df['Attrition'] = df['Attrition'].map({'Yes': 1, 'No': 0})\n",
    "\n",
    "# Filter employees who are staying\n",
    "df_stayers = df[df['Attrition'] == 0].copy()"
   ]
  },
  {
   "cell_type": "markdown",
   "id": "96dcba26",
   "metadata": {},
   "source": [
    "# Define Features and Target\n",
    "Define the target variable and exclude unnecessary columns."
   ]
  },
  {
   "cell_type": "code",
   "execution_count": null,
   "id": "9bd42c64",
   "metadata": {},
   "outputs": [],
   "source": [
    "# Define target and features\n",
    "target = 'FutureSalary_PerformanceBased'\n",
    "exclude_cols = ['EmployeeCount', 'Over18', 'StandardHours', 'EmployeeNumber',\n",
    "                'Attrition', 'FutureSalary_Fixed', target]\n",
    "\n",
    "X = df_stayers.drop(columns=exclude_cols)\n",
    "y = df_stayers[target]\n",
    "\n",
    "# One-hot encoding\n",
    "X = pd.get_dummies(X, drop_first=True)"
   ]
  },
  {
   "cell_type": "markdown",
   "id": "a9621a98",
   "metadata": {},
   "source": [
    "# Train-Test Split\n",
    "Split the data into training and testing sets."
   ]
  },
  {
   "cell_type": "code",
   "execution_count": null,
   "id": "01de9056",
   "metadata": {},
   "outputs": [],
   "source": [
    "# Train-test split\n",
    "X_train, X_test, y_train, y_test = train_test_split(\n",
    "    X, y, test_size=0.2, random_state=42\n",
    ")"
   ]
  },
  {
   "cell_type": "markdown",
   "id": "3a27de85",
   "metadata": {},
   "source": [
    "# Train Regression Models\n",
    "Train multiple regression models and evaluate their performance."
   ]
  },
  {
   "cell_type": "code",
   "execution_count": null,
   "id": "235389cf",
   "metadata": {},
   "outputs": [],
   "source": [
    "# Regression models\n",
    "models = {\n",
    "    \"Random Forest\": RandomForestRegressor(random_state=42),\n",
    "    \"Ridge Regression\": Ridge(alpha=1.0),\n",
    "    \"Lasso Regression\": Lasso(alpha=0.1),\n",
    "    \"Support Vector Regressor\": SVR(kernel='rbf')\n",
    "}\n",
    "\n",
    "# Store predictions\n",
    "results = []\n",
    "\n",
    "for name, model in models.items():\n",
    "    model.fit(X_train, y_train)\n",
    "    y_pred = model.predict(X_test)\n",
    "\n",
    "    # Metrics\n",
    "    r2 = r2_score(y_test, y_pred)\n",
    "    rmse = np.sqrt(mean_squared_error(y_test, y_pred))\n",
    "\n",
    "    print(f\"\\n{name}\")\n",
    "    print(f\"R² Score: {r2:.4f}\")\n",
    "    print(f\"RMSE: {rmse:.2f}\")\n",
    "\n",
    "    # Store results\n",
    "    temp = pd.DataFrame({\n",
    "        'Model': name,\n",
    "        'Actual': y_test,\n",
    "        'Predicted': y_pred\n",
    "    })\n",
    "    results.append(temp)\n",
    "\n",
    "    # Plotting Actual vs Predicted\n",
    "    plt.figure(figsize=(6, 4))\n",
    "    sns.scatterplot(x=y_test, y=y_pred, alpha=0.6)\n",
    "    plt.plot([y_test.min(), y_test.max()], [y_test.min(), y_test.max()], 'r--')\n",
    "    plt.xlabel('Actual Future Salary')\n",
    "    plt.ylabel('Predicted Future Salary')\n",
    "    plt.title(f'{name} - Actual vs Predicted')\n",
    "    plt.tight_layout()\n",
    "    plt.show()"
   ]
  },
  {
   "cell_type": "markdown",
   "id": "984813c1",
   "metadata": {},
   "source": [
    "# Save Predictions\n",
    "Combine all predictions and save them to a CSV file."
   ]
  },
  {
   "cell_type": "code",
   "execution_count": null,
   "id": "57e59e6f",
   "metadata": {},
   "outputs": [],
   "source": []
  }
 ],
 "metadata": {
  "kernelspec": {
   "display_name": "Python 3",
   "language": "python",
   "name": "python3"
  },
  "language_info": {
   "codemirror_mode": {
    "name": "ipython",
    "version": 3
   },
   "file_extension": ".py",
   "mimetype": "text/x-python",
   "name": "python",
   "nbconvert_exporter": "python",
   "pygments_lexer": "ipython3",
   "version": "3.12.10"
  }
 },
 "nbformat": 4,
 "nbformat_minor": 5
}
