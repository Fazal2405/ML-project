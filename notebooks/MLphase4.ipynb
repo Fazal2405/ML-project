{
 "cells": [
  {
   "cell_type": "markdown",
   "id": "9a9b33c4",
   "metadata": {},
   "source": [
    "# Import Required Libraries\n",
    "Import the necessary libraries for data manipulation, visualization, and machine learning."
   ]
  },
  {
   "cell_type": "code",
   "execution_count": null,
   "id": "81340f69",
   "metadata": {},
   "outputs": [
    {
     "name": "stdout",
     "output_type": "stream",
     "text": [
      "R² Score: 0.9994\n",
      "RMSE: 121.32\n",
      "\n",
      "Sample of Predicted Salaries for Likely to Stay Employees:\n",
      "     Age  JobRole  MonthlyIncome  P_stay  PredictedFutureSalary\n",
      "574   34        6           3280     1.0              3450.8030\n",
      "521   27        7           4647     1.0              5063.0020\n",
      "814   40        5          19626     1.0             20637.4665\n",
      "307   38        5          12061     1.0             12646.4680\n",
      "855   37        4           6474     1.0              6800.7330\n",
      "739   27        4           4227     1.0              4441.9935\n",
      "392   54        5          19406     1.0             20364.9180\n",
      "737   41        4           5003     1.0              5272.3860\n",
      "738   39        4          12742     1.0             13466.8050\n",
      "373   27        2           3816     1.0              4010.2310\n",
      "\n",
      "✅ File saved as 'likely_to_stay_with_predicted_salaries.csv'\n"
     ]
    }
   ],
   "source": [
    "import pandas as pd\n",
    "import numpy as np\n",
    "from sklearn.model_selection import train_test_split\n",
    "from sklearn.preprocessing import LabelEncoder\n",
    "from sklearn.ensemble import RandomForestClassifier, RandomForestRegressor\n",
    "from sklearn.metrics import r2_score, mean_squared_error\n",
    "import math"
   ]
  },
  {
   "cell_type": "markdown",
   "id": "166ed97d",
   "metadata": {},
   "source": [
    "# Load and Preprocess the Dataset\n",
    "Load the dataset and preprocess it by converting categorical variables and filtering data."
   ]
  },
  {
   "cell_type": "code",
   "execution_count": null,
   "id": "373aa5ce",
   "metadata": {},
   "outputs": [],
   "source": [
    "# Load the dataset\n",
    "df = pd.read_csv(\"employee_dataset_with_future_salaries.csv\")\n",
    "\n",
    "# Convert Attrition to binary\n",
    "df[\"Attrition\"] = df[\"Attrition\"].map({\"Yes\": 1, \"No\": 0})\n",
    "\n",
    "# Encode categorical columns\n",
    "categorical_cols = df.select_dtypes(include=\"object\").columns.tolist()\n",
    "categorical_cols = [col for col in categorical_cols if col not in ['Attrition']]  # already handled\n",
    "\n",
    "le = LabelEncoder()\n",
    "for col in categorical_cols:\n",
    "    df[col] = le.fit_transform(df[col])"
   ]
  },
  {
   "cell_type": "markdown",
   "id": "b7d09dfd",
   "metadata": {},
   "source": [
    "# Train Attrition Classification Model\n",
    "Train a classification model to predict employee attrition."
   ]
  },
  {
   "cell_type": "code",
   "execution_count": null,
   "id": "5b1286a0",
   "metadata": {},
   "outputs": [],
   "source": [
    "# Define features and target\n",
    "X_cls = df.drop(columns=[\"Attrition\", \"FutureSalary_PerformanceBased\", \"FutureSalary_Fixed\"])\n",
    "y_cls = df[\"Attrition\"]\n",
    "\n",
    "# Train-test split\n",
    "X_cls_train, X_cls_test, y_cls_train, y_cls_test = train_test_split(X_cls, y_cls, test_size=0.2, random_state=42)\n",
    "\n",
    "# Train the model\n",
    "cls_model = RandomForestClassifier(random_state=42)\n",
    "cls_model.fit(X_cls_train, y_cls_train)\n",
    "\n",
    "# Predict probabilities of attrition\n",
    "probs = cls_model.predict_proba(X_cls)\n",
    "df[\"P_leave\"] = probs[:, 1]\n",
    "df[\"P_stay\"] = 1 - df[\"P_leave\"]"
   ]
  },
  {
   "cell_type": "markdown",
   "id": "00d8a235",
   "metadata": {},
   "source": [
    "# Filter Likely to Stay Employees\n",
    "Filter employees who are likely to stay based on a threshold."
   ]
  },
  {
   "cell_type": "code",
   "execution_count": null,
   "id": "06136a9b",
   "metadata": {},
   "outputs": [],
   "source": [
    "# Define threshold\n",
    "stay_threshold = 0.6\n",
    "df_likely_to_stay = df[df[\"P_stay\"] > stay_threshold].copy()"
   ]
  },
  {
   "cell_type": "markdown",
   "id": "6429501a",
   "metadata": {},
   "source": [
    "# Train Salary Regression Model\n",
    "Train a regression model to predict future salaries."
   ]
  },
  {
   "cell_type": "code",
   "execution_count": null,
   "id": "fc0359d8",
   "metadata": {},
   "outputs": [],
   "source": [
    "# Define features and target\n",
    "X_reg = df.drop(columns=[\"Attrition\", \"FutureSalary_PerformanceBased\", \"FutureSalary_Fixed\", \"P_leave\", \"P_stay\"])\n",
    "y_reg = df[\"FutureSalary_PerformanceBased\"]\n",
    "\n",
    "# Train-test split\n",
    "X_reg_train, X_reg_test, y_reg_train, y_reg_test = train_test_split(X_reg, y_reg, test_size=0.2, random_state=42)\n",
    "\n",
    "# Train the model\n",
    "reg_model = RandomForestRegressor(random_state=42)\n",
    "reg_model.fit(X_reg_train, y_reg_train)"
   ]
  },
  {
   "cell_type": "markdown",
   "id": "363bb9ab",
   "metadata": {},
   "source": [
    "# Predict Future Salary for Likely to Stay Employees\n",
    "Use the regression model to predict future salaries for employees likely to stay."
   ]
  },
  {
   "cell_type": "code",
   "execution_count": null,
   "id": "3bd710df",
   "metadata": {},
   "outputs": [],
   "source": [
    "# Predict future salaries\n",
    "X_stay = df_likely_to_stay.drop(columns=[\"Attrition\", \"FutureSalary_PerformanceBased\", \"FutureSalary_Fixed\", \"P_leave\", \"P_stay\"])\n",
    "df_likely_to_stay[\"PredictedFutureSalary\"] = reg_model.predict(X_stay)"
   ]
  },
  {
   "cell_type": "markdown",
   "id": "9869fedd",
   "metadata": {},
   "source": [
    "# Evaluate the Regression Model\n",
    "Evaluate the performance of the regression model using R² and RMSE metrics."
   ]
  },
  {
   "cell_type": "code",
   "execution_count": null,
   "id": "540beed8",
   "metadata": {},
   "outputs": [],
   "source": [
    "# Evaluate the model\n",
    "y_pred_test = reg_model.predict(X_reg_test)\n",
    "r2 = r2_score(y_reg_test, y_pred_test)\n",
    "rmse = math.sqrt(mean_squared_error(y_reg_test, y_pred_test))\n",
    "\n",
    "print(f\"R² Score: {r2:.4f}\")\n",
    "print(f\"RMSE: {rmse:.2f}\")"
   ]
  },
  {
   "cell_type": "markdown",
   "id": "78bfb9af",
   "metadata": {},
   "source": [
    "# Display Sample Output\n",
    "Display a sample of predicted salaries for employees likely to stay."
   ]
  },
  {
   "cell_type": "code",
   "execution_count": null,
   "id": "2b183f9a",
   "metadata": {},
   "outputs": [],
   "source": [
    "# Display sample output\n",
    "output_cols = [\"Age\", \"JobRole\", \"MonthlyIncome\", \"P_stay\", \"PredictedFutureSalary\"]\n",
    "output_sample = df_likely_to_stay[output_cols].sort_values(by=\"P_stay\", ascending=False).head(10)\n",
    "\n",
    "print(\"\\nSample of Predicted Salaries for Likely to Stay Employees:\")\n",
    "print(output_sample)"
   ]
  },
  {
   "cell_type": "markdown",
   "id": "02da5b48",
   "metadata": {},
   "source": [
    "# Save Results to CSV\n",
    "Save the predictions for likely to stay employees to a CSV file."
   ]
  },
  {
   "cell_type": "code",
   "execution_count": null,
   "id": "8777c3b6",
   "metadata": {},
   "outputs": [],
   "source": [
    "# Save to CSV\n",
    "df_likely_to_stay.to_csv(\"likely_to_stay_with_predicted_salaries.csv\", index=False)\n",
    "print(\"\\n✅ File saved as 'likely_to_stay_with_predicted_salaries.csv'\")"
   ]
  }
 ],
 "metadata": {
  "kernelspec": {
   "display_name": "Python 3",
   "language": "python",
   "name": "python3"
  },
  "language_info": {
   "codemirror_mode": {
    "name": "ipython",
    "version": 3
   },
   "file_extension": ".py",
   "mimetype": "text/x-python",
   "name": "python",
   "nbconvert_exporter": "python",
   "pygments_lexer": "ipython3",
   "version": "3.12.10"
  }
 },
 "nbformat": 4,
 "nbformat_minor": 5
}
