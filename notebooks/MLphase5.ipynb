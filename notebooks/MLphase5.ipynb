{
 "cells": [
  {
   "cell_type": "code",
   "execution_count": null,
   "id": "2b79119a",
   "metadata": {},
   "outputs": [
    {
     "name": "stdout",
     "output_type": "stream",
     "text": [
      "✅ Total Expected Salary Loss: ₹1,262,643.56\n",
      "\n",
      "🔝 Top 10 High-Risk High-Loss Employees:\n",
      "      Age  JobRole  MonthlyIncome  P_leave  PredictedFutureSalary  \\\n",
      "595    58        5          19246     0.77             20241.0285   \n",
      "913    45        3          18824     0.77             19755.0430   \n",
      "749    52        3          19845     0.70             20861.0220   \n",
      "45     41        5          19545     0.71             20515.0470   \n",
      "568    55        3          19859     0.68             20868.5205   \n",
      "975    55        7          13695     0.78             14420.5900   \n",
      "1223   47        7          12936     0.80             13642.1905   \n",
      "706    40        7          13194     0.78             13862.8075   \n",
      "435    33        3          13610     0.74             14296.7830   \n",
      "838    42        7          13758     0.65             14527.7405   \n",
      "\n",
      "      ExpectedLoss  \n",
      "595   15585.591945  \n",
      "913   15211.383110  \n",
      "749   14602.715400  \n",
      "45    14565.683370  \n",
      "568   14190.593940  \n",
      "975   11248.060200  \n",
      "1223  10913.752400  \n",
      "706   10812.989850  \n",
      "435   10579.619420  \n",
      "838    9443.031325  \n"
     ]
    }
   ],
   "source": [
    "import pandas as pd\n",
    "import numpy as np\n",
    "\n",
    "# Load dataset (assumes this includes predictions from earlier steps)\n",
    "df = pd.read_csv(\"likely_to_stay_with_predicted_salaries.csv\")\n",
    "\n",
    "# If coming from earlier in-memory steps, skip loading and use `df_likely_to_stay` and `df`\n",
    "\n",
    "# Re-load the full dataframe that includes everyone\n",
    "df_all = pd.read_csv(\"employee_dataset_with_future_salaries.csv\")"
   ]
  },
  {
   "cell_type": "code",
   "execution_count": null,
   "id": "f07640cd",
   "metadata": {},
   "outputs": [],
   "source": [
    "# Step 1: Ensure Attrition is binary (if not already done)\n",
    "df_all[\"Attrition\"] = df_all[\"Attrition\"].map({\"Yes\": 1, \"No\": 0})"
   ]
  },
  {
   "cell_type": "code",
   "execution_count": null,
   "id": "4f0c9727",
   "metadata": {},
   "outputs": [],
   "source": [
    "# Step 2: Encode categorical columns again (consistent with training)\n",
    "from sklearn.preprocessing import LabelEncoder\n",
    "categorical_cols = df_all.select_dtypes(include=\"object\").columns.tolist()\n",
    "categorical_cols = [col for col in categorical_cols if col not in ['Attrition']]\n",
    "\n",
    "le = LabelEncoder()\n",
    "for col in categorical_cols:\n",
    "    df_all[col] = le.fit_transform(df_all[col])"
   ]
  },
  {
   "cell_type": "code",
   "execution_count": null,
   "id": "05d43278",
   "metadata": {},
   "outputs": [],
   "source": [
    "# Step 3: Predict attrition probability again\n",
    "from sklearn.ensemble import RandomForestClassifier, RandomForestRegressor\n",
    "from sklearn.model_selection import train_test_split\n",
    "from sklearn.metrics import r2_score, mean_squared_error\n",
    "import math\n",
    "\n",
    "X_cls = df_all.drop(columns=[\"Attrition\", \"FutureSalary_PerformanceBased\", \"FutureSalary_Fixed\"])\n",
    "y_cls = df_all[\"Attrition\"]\n",
    "cls_model = RandomForestClassifier(random_state=42)\n",
    "cls_model.fit(X_cls, y_cls)\n",
    "\n",
    "# Add attrition probabilities\n",
    "probs = cls_model.predict_proba(X_cls)\n",
    "df_all[\"P_leave\"] = probs[:, 1]\n",
    "df_all[\"P_stay\"] = 1 - df_all[\"P_leave\"]"
   ]
  },
  {
   "cell_type": "code",
   "execution_count": null,
   "id": "3dcc32d2",
   "metadata": {},
   "outputs": [],
   "source": [
    "# Step 4: Predict future salary again\n",
    "X_reg = df_all.drop(columns=[\"Attrition\", \"FutureSalary_PerformanceBased\", \"FutureSalary_Fixed\", \"P_leave\", \"P_stay\"])\n",
    "y_reg = df_all[\"FutureSalary_PerformanceBased\"]\n",
    "reg_model = RandomForestRegressor(random_state=42)\n",
    "reg_model.fit(X_reg, y_reg)\n",
    "\n",
    "df_all[\"PredictedFutureSalary\"] = reg_model.predict(X_reg)"
   ]
  },
  {
   "cell_type": "code",
   "execution_count": null,
   "id": "8e0438ea",
   "metadata": {},
   "outputs": [],
   "source": [
    "# Step 5: Compute Expected Salary Loss\n",
    "df_all[\"ExpectedLoss\"] = df_all[\"P_leave\"] * df_all[\"PredictedFutureSalary\"]"
   ]
  },
  {
   "cell_type": "code",
   "execution_count": null,
   "id": "bc9cf129",
   "metadata": {},
   "outputs": [],
   "source": [
    "# Step 6: Aggregate Total Expected Loss\n",
    "total_loss = df_all[\"ExpectedLoss\"].sum()"
   ]
  },
  {
   "cell_type": "code",
   "execution_count": null,
   "id": "ec7c496c",
   "metadata": {},
   "outputs": [],
   "source": [
    "# Step 7: Sort to view high-risk, high-loss individuals\n",
    "df_loss_sorted = df_all[[\"Age\", \"JobRole\", \"MonthlyIncome\", \"P_leave\", \"PredictedFutureSalary\", \"ExpectedLoss\"]].sort_values(by=\"ExpectedLoss\", ascending=False)"
   ]
  },
  {
   "cell_type": "code",
   "execution_count": null,
   "id": "5e74e8c6",
   "metadata": {},
   "outputs": [],
   "source": [
    "# Step 8: Save Results\n",
    "df_all.to_csv(\"employee_attrition_risk_with_expected_loss.csv\", index=False)"
   ]
  },
  {
   "cell_type": "code",
   "execution_count": null,
   "id": "cef54d8a",
   "metadata": {},
   "outputs": [],
   "source": [
    "# Step 9: Output Summary\n",
    "print(f\"✅ Total Expected Salary Loss: ₹{total_loss:,.2f}\\n\")\n",
    "print(\"🔝 Top 10 High-Risk High-Loss Employees:\")\n",
    "print(df_loss_sorted.head(10))"
   ]
  }
 ],
 "metadata": {
  "kernelspec": {
   "display_name": "Python 3",
   "language": "python",
   "name": "python3"
  },
  "language_info": {
   "codemirror_mode": {
    "name": "ipython",
    "version": 3
   },
   "file_extension": ".py",
   "mimetype": "text/x-python",
   "name": "python",
   "nbconvert_exporter": "python",
   "pygments_lexer": "ipython3",
   "version": "3.12.10"
  }
 },
 "nbformat": 4,
 "nbformat_minor": 5
}
